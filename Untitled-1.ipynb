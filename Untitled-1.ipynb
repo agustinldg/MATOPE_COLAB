{
 "cells": [
  {
   "cell_type": "code",
   "execution_count": 2,
   "metadata": {},
   "outputs": [
    {
     "name": "stdout",
     "output_type": "stream",
     "text": [
      "['22-1', '44+2', '5555+5555+23', '235:7']\n",
      "0 22-1\n",
      "1 44+2\n",
      "2 5555+5555+23\n",
      "3 235:7\n"
     ]
    }
   ],
   "source": [
    "c_operaciones=\"      22-1     44+2 5555+5555+23 235:7   \"\n",
    "a=c_operaciones.split()\n",
    "\n",
    "print(a)\n",
    "for i in range(len(a)):\n",
    "    print(i,a[i])\n"
   ]
  },
  {
   "cell_type": "code",
   "execution_count": null,
   "metadata": {},
   "outputs": [],
   "source": [
    "from openpyxl.styles.colors import RED,GREEN,DARKGREEN,DARKRED"
   ]
  },
  {
   "cell_type": "code",
   "execution_count": 4,
   "metadata": {},
   "outputs": [
    {
     "name": "stdout",
     "output_type": "stream",
     "text": [
      "[222, 333]\n"
     ]
    }
   ],
   "source": [
    "fope=list(map(int, ['222','333']))\n",
    "print (fope)\n",
    "          "
   ]
  },
  {
   "cell_type": "code",
   "execution_count": 6,
   "metadata": {},
   "outputs": [
    {
     "name": "stdout",
     "output_type": "stream",
     "text": [
      "2024-10-02 21:39:33\n"
     ]
    }
   ],
   "source": [
    "from datetime import datetime \n",
    "a=datetime.now().strftime(\"%Y-%m-%d %H:%M:%S\") \n",
    "print (a )"
   ]
  },
  {
   "cell_type": "code",
   "execution_count": 5,
   "metadata": {},
   "outputs": [
    {
     "ename": "ModuleNotFoundError",
     "evalue": "No module named 'request'",
     "output_type": "error",
     "traceback": [
      "\u001b[0;31m---------------------------------------------------------------------------\u001b[0m",
      "\u001b[0;31mModuleNotFoundError\u001b[0m                       Traceback (most recent call last)",
      "Cell \u001b[0;32mIn[5], line 1\u001b[0m\n\u001b[0;32m----> 1\u001b[0m \u001b[38;5;28;01mimport\u001b[39;00m \u001b[38;5;21;01mrequest\u001b[39;00m \n",
      "\u001b[0;31mModuleNotFoundError\u001b[0m: No module named 'request'"
     ]
    }
   ],
   "source": [
    "import request "
   ]
  },
  {
   "cell_type": "code",
   "execution_count": 10,
   "metadata": {},
   "outputs": [],
   "source": [
    "def calcula_size(sz):\n",
    "    return (round(sz*fontsize/11))"
   ]
  },
  {
   "cell_type": "code",
   "execution_count": 15,
   "metadata": {},
   "outputs": [
    {
     "name": "stdout",
     "output_type": "stream",
     "text": [
      "24\n"
     ]
    }
   ],
   "source": [
    "fontsize=22\n",
    "print(calcula_size(12))"
   ]
  },
  {
   "cell_type": "code",
   "execution_count": null,
   "metadata": {},
   "outputs": [],
   "source": []
  },
  {
   "cell_type": "code",
   "execution_count": null,
   "metadata": {},
   "outputs": [],
   "source": []
  },
  {
   "cell_type": "code",
   "execution_count": null,
   "metadata": {},
   "outputs": [],
   "source": []
  },
  {
   "cell_type": "code",
   "execution_count": 16,
   "metadata": {},
   "outputs": [],
   "source": [
    "# @title Texto de título predeterminado\n",
    "# @markdown **das d as**\n",
    "modo = \"super_pro,facil\" # @param [\"super_pro,facil,dificil\",\"super_pro,facil\",\"facil\"]"
   ]
  },
  {
   "cell_type": "code",
   "execution_count": null,
   "metadata": {},
   "outputs": [],
   "source": [
    "# @markdown **das d as**\n",
    "modo = \"super_pro,facil\" # @param [\"super_pro,facil,dificil\",\"super_pro,facil\",\"facil\"]"
   ]
  },
  {
   "cell_type": "markdown",
   "metadata": {},
   "source": []
  },
  {
   "cell_type": "code",
   "execution_count": 21,
   "metadata": {},
   "outputs": [
    {
     "name": "stdout",
     "output_type": "stream",
     "text": [
      "super_pro\n"
     ]
    }
   ],
   "source": [
    "CFG_MODOS_DISPO=\"super_pro\" #,fácil,dificil\" #,\"super_pro,facil\",\"facil\"\n",
    "CFG_MODO_SELEC=\"super_pro\"\n",
    "\n",
    "def modo_defecto():\n",
    "    if CFG_MODO_SELEC in CFG_MODOS_DISPO.split(',') :\n",
    "        return CFG_MODO_SELEC\n",
    "    else:\n",
    "        return CFG_MODOS_DISPO.split(',')[0]\n",
    "\n",
    "print(modo_defecto())\n"
   ]
  },
  {
   "cell_type": "code",
   "execution_count": 22,
   "metadata": {},
   "outputs": [],
   "source": [
    "from openpyxl.styles import Border, Side, PatternFill, Font, GradientFill, Alignment\n",
    "from openpyxl import Workbook\n",
    "\n",
    "wb = Workbook()\n",
    "ws = wb.active\n",
    "ws.merge_cells('B2:F4')\n",
    "\n",
    "top_left_cell = ws['B2']\n",
    "top_left_cell.value = \"My Cell\"\n",
    "\n",
    "thin = Side(border_style=\"thin\", color=\"000000\")\n",
    "double = Side(border_style=\"double\", color=\"ff0000\")\n",
    "\n",
    "top_left_cell.border = Border(top=double, left=thin, right=thin, bottom=double)\n",
    "top_left_cell.fill = PatternFill(\"solid\", fgColor=\"DDDDDD\")\n",
    "top_left_cell.fill = fill = GradientFill(stop=(\"000000\", \"FFFFFF\"))\n",
    "top_left_cell.font  = Font(b=True, color=\"FF0000\")\n",
    "top_left_cell.alignment = Alignment(horizontal=\"center\", vertical=\"center\")\n",
    "\n",
    "wb.save(\"styled.xlsx\")"
   ]
  },
  {
   "cell_type": "code",
   "execution_count": 2,
   "metadata": {},
   "outputs": [
    {
     "name": "stdout",
     "output_type": "stream",
     "text": [
      "10288065751028805632\n"
     ]
    }
   ],
   "source": [
    "a=123456789012345678901\n",
    "b=12\n",
    "print(int(a/b))\n"
   ]
  },
  {
   "cell_type": "code",
   "execution_count": 3,
   "metadata": {},
   "outputs": [
    {
     "name": "stdout",
     "output_type": "stream",
     "text": [
      "10288065751028806575.08333333\n"
     ]
    }
   ],
   "source": [
    "from decimal import Decimal, getcontext\n",
    "a=123456789012345678901\n",
    "b=12\n",
    "print(Decimal(a)/Decimal(b))\n"
   ]
  },
  {
   "cell_type": "code",
   "execution_count": 4,
   "metadata": {},
   "outputs": [
    {
     "name": "stdout",
     "output_type": "stream",
     "text": [
      "34342342342342342342342323\n"
     ]
    }
   ],
   "source": [
    "print(Decimal(\"34342342342342342342342323\"))\n"
   ]
  },
  {
   "cell_type": "code",
   "execution_count": 7,
   "metadata": {},
   "outputs": [
    {
     "name": "stdout",
     "output_type": "stream",
     "text": [
      "123456789012345678900\n"
     ]
    }
   ],
   "source": [
    "print(10288065751028806575*12)"
   ]
  },
  {
   "cell_type": "code",
   "execution_count": 8,
   "metadata": {},
   "outputs": [
    {
     "name": "stdout",
     "output_type": "stream",
     "text": [
      "Upload successful: {'success': True, 'fileUrl': 'https://drive.google.com/file/d/124apoCQ8qJzM6B2SsLbS2MGXuXRHBhZJ/view?usp=drivesdk', 'fileId': '124apoCQ8qJzM6B2SsLbS2MGXuXRHBhZJ'}\n"
     ]
    }
   ],
   "source": [
    "import requests\n",
    "\n",
    "# Google Apps Script deployment URL\n",
    "url =  \"https://script.google.com/macros/s/AKfycbwubnn41omuzh-sh7WsUkvP1dy5XwRTxSxaW1DyquBqkUjq7_kx9dylmX7GCfVR0Mp7/exec\"\n",
    "\n",
    "# File path to upload\n",
    "file_path = \"/Users/aldg/Downloads/test999.xlsx\"\n",
    "filename = \"test999.xlsx\"  # Desired filename\n",
    "\n",
    "# Headers and binary data setup\n",
    "headers = {\n",
    "    \"Content-Type\": \"application/octet-stream\",\n",
    "    \"X-Filename\": filename\n",
    "}\n",
    "\n",
    "# Read the file content in binary mode\n",
    "with open(file_path, \"rb\") as file:\n",
    "    file_data = file.read()\n",
    "\n",
    "# Send the POST request with binary data\n",
    "response = requests.post(url, headers=headers, data=file_data)\n",
    "\n",
    "# Check and print the response\n",
    "if response.status_code == 200:\n",
    "    print(\"Upload successful:\", response.json())\n",
    "else:\n",
    "    print(\"Error:\", response.status_code, response.text)"
   ]
  },
  {
   "cell_type": "code",
   "execution_count": 9,
   "metadata": {},
   "outputs": [
    {
     "name": "stdout",
     "output_type": "stream",
     "text": [
      "{'status': 'success', 'fileId': '12fmxqKVTx6YhmcnEL6HmGgoWOUTb_A_L'}\n"
     ]
    }
   ],
   "source": [
    "import requests\n",
    "import base64\n",
    "import json\n",
    "\n",
    "# Your Google Apps Script web app URL\n",
    "url = \"https://script.google.com/macros/s/AKfycbyI-84gJspF1ePXLTZb69I4RxKk8YVRWBJPvrKUD44wMlePNC6xjOnT3SJ1YvZrkgY7/exec\"\n",
    "\n",
    "# Path to the file you want to upload\n",
    "file_path = \"/Users/aldg/Downloads/ficha_buena_105710_version_2.pdf\"\n",
    "\n",
    "# Set the filename and MIME type (adjust as necessary)\n",
    "filename = \"ficha_buena_105710_version_2.pdf\"\n",
    "mimetype = \"application/pdf\"\n",
    "\n",
    "# Read the file and encode it in base64\n",
    "with open(file_path, \"rb\") as file:\n",
    "    file_data = base64.b64encode(file.read()).decode(\"utf-8\")\n",
    "\n",
    "# Create the JSON payload\n",
    "payload = {\n",
    "    \"filename\": filename,\n",
    "    \"file\": file_data,\n",
    "    \"mimetype\": mimetype\n",
    "}\n",
    "\n",
    "# Set headers for JSON content\n",
    "headers = {\n",
    "    \"Content-Type\": \"application/json\"\n",
    "}\n",
    "\n",
    "# Send the POST request to the Google Apps Script web app\n",
    "response = requests.post(url, headers=headers, data=json.dumps(payload))\n",
    "\n",
    "# Print the response from the server\n",
    "print(response.json())\n"
   ]
  },
  {
   "cell_type": "code",
   "execution_count": 15,
   "metadata": {},
   "outputs": [
    {
     "name": "stdout",
     "output_type": "stream",
     "text": [
      "{'status': 'success', 'fileId': '1KyY-XIY33JueE5UkeMeGLzM_M1ltwY8x'}\n"
     ]
    }
   ],
   "source": [
    "import requests\n",
    "import base64\n",
    "import json\n",
    "\n",
    "# Your Google Apps Script web app URL\n",
    "#url = \"https://script.google.com/macros/s/AKfycbyI-84gJspF1ePXLTZb69I4RxKk8YVRWBJPvrKUD44wMlePNC6xjOnT3SJ1YvZrkgY7/exec\"\n",
    "url = \"https://script.google.com/macros/s/AKfycbx07Y6pNUbTfRM0FCA8MvmPhTJjccUifGUZQainLZkoSqJnyNEipLl3QMPdw9q0JhlC/exec\"\n",
    "# Path to the file you want to upload\n",
    "file_path = \"/Users/aldg/Downloads/Divisiones_Javi_2.xlsx\"\n",
    "\n",
    "# Set the filename and MIME type (adjust as necessary)\n",
    "filename = \"Divisiones_Javi_2.xlsx\"\n",
    "mimetype = \"application/vnd.openxmlformats-officedocument.spreadsheetml.sheet\"\n",
    "\n",
    "# Read the file and encode it in base64\n",
    "with open(file_path, \"rb\") as file:\n",
    "    file_data = base64.b64encode(file.read()).decode(\"utf-8\")\n",
    "\n",
    "# Create the JSON payload\n",
    "payload = {\n",
    "    \"filename\": filename,\n",
    "    \"file\": file_data,\n",
    "    \"mimetype\": mimetype\n",
    "}\n",
    "\n",
    "# Set headers for JSON content\n",
    "headers = {\n",
    "    \"Content-Type\": \"application/json\"\n",
    "}\n",
    "\n",
    "# Send the POST request to the Google Apps Script web app\n",
    "response = requests.post(url, headers=headers, data=json.dumps(payload))\n",
    "\n",
    "# Print the response from the server\n",
    "print(response.json())\n"
   ]
  },
  {
   "cell_type": "markdown",
   "metadata": {},
   "source": [
    "/**\n",
    " * Google Apps Script function to handle POST requests to upload files to a specific folder in Google Drive.\n",
    " * Expects JSON input in the request body with fields: filename, file (base64), and mimetype.\n",
    " * @param {Object} e - The event parameter for the web request.\n",
    " * @return {ContentService.TextOutput} - JSON response with upload status and file ID.\n",
    " */\n",
    "function doPost(e) {\n",
    "  try {\n",
    "    // Parse JSON data from POST body\n",
    "    const data = JSON.parse(e.postData.contents);\n",
    "\n",
    "    // Check for required fields: filename, file (base64 data), and mimetype\n",
    "    if (!data.filename || !data.file || !data.mimetype) {\n",
    "      return ContentService.createTextOutput(JSON.stringify({ status: 'error', message: 'Filename, file data, or mimetype missing.' }))\n",
    "                           .setMimeType(ContentService.MimeType.JSON);\n",
    "    }\n",
    "\n",
    "    // Decode base64-encoded file data back into binary\n",
    "    const fileDataBinary = Utilities.base64Decode(data.file);\n",
    "\n",
    "    // Create a Blob from the binary data with the specified MIME type and filename\n",
    "    const blob = Utilities.newBlob(fileDataBinary, data.mimetype, data.filename);\n",
    "\n",
    "    // Specify the folder ID where the file will be saved\n",
    "    const folderId = \"1KBU6NgsFjw_mRCNh_5Js2b3MncEcfN4z\"; // Replace with your specific folder ID\n",
    "    const folder = DriveApp.getFolderById(folderId);\n",
    "\n",
    "    // Save the Blob as a file in the specified folder\n",
    "    const file = folder.createFile(blob);\n",
    "\n",
    "    // Return success response with file ID\n",
    "    return ContentService.createTextOutput(JSON.stringify({ status: 'success', fileId: file.getId() }))\n",
    "                         .setMimeType(ContentService.MimeType.JSON);\n",
    "  } catch (error) {\n",
    "    // Return error status and message if an error occurs\n",
    "    return ContentService.createTextOutput(JSON.stringify({ status: 'error', message: error.message }))\n",
    "                         .setMimeType(ContentService.MimeType.JSON);\n",
    "  }\n",
    "}"
   ]
  },
  {
   "cell_type": "code",
   "execution_count": 16,
   "metadata": {},
   "outputs": [
    {
     "data": {
      "text/html": [
       "<a href=\"https://www.google.com\" target=\"_blank\">Click here to go to Google</a>"
      ],
      "text/plain": [
       "<IPython.core.display.HTML object>"
      ]
     },
     "metadata": {},
     "output_type": "display_data"
    }
   ],
   "source": [
    "from IPython.display import HTML\n",
    "\n",
    "# Construct the HTML for the link.\n",
    "html = '<a href=\"https://www.google.com\" target=\"_blank\">Click here to go to Google</a>'\n",
    "\n",
    "# Display the link.\n",
    "display(HTML(html))"
   ]
  },
  {
   "cell_type": "code",
   "execution_count": 18,
   "metadata": {},
   "outputs": [
    {
     "name": "stdout",
     "output_type": "stream",
     "text": [
      "{'status': 'success', 'fileId': '1AIErda4GUaH_GTXXYZvo2mN717DQdBbv', 'parent_folderId': '1UDglgZTlWaBFXXhMx0mpSmQWkbjn4i07', 'sub_folderId': '1UDglgZTlWaBFXXhMx0mpSmQWkbjn4i07'}\n"
     ]
    }
   ],
   "source": [
    "\n",
    "\n",
    "import requests\n",
    "import base64\n",
    "import json\n",
    "\n",
    "# Your Google Apps Script web app URL\n",
    "#url = \"https://script.google.com/macros/s/AKfycbyI-84gJspF1ePXLTZb69I4RxKk8YVRWBJPvrKUD44wMlePNC6xjOnT3SJ1YvZrkgY7/exec\"\n",
    "url = \"https://script.google.com/macros/s/AKfycbxxWRePbLG9_nFLUwV_lgsSLPTLXlGtXCMXrkkVGW9uL0_EtF5C5cL5QmgMI37Xg_Kv/exec\"\n",
    "# Path to the file you want to upload\n",
    "file_path = \"/Users/aldg/Downloads/Divisiones_Javi_2.xlsx\"\n",
    "\n",
    "# Set the filename and MIME type (adjust as necessary)\n",
    "filename = \"Divisiones_Javi_2.xlsx\"\n",
    "mimetype = \"application/vnd.openxmlformats-officedocument.spreadsheetml.sheet\"\n",
    "\n",
    "# Read the file and encode it in base64\n",
    "with open(file_path, \"rb\") as file:\n",
    "    file_data = base64.b64encode(file.read()).decode(\"utf-8\")\n",
    "\n",
    "# Create the JSON payload\n",
    "payload = {\n",
    "    \"filename\": filename,\n",
    "    \"file\": file_data,\n",
    "    \"mimetype\": mimetype,\n",
    "    \"subfolder\": \"\"\n",
    "}\n",
    "\n",
    "# Set headers for JSON content\n",
    "headers = {\n",
    "    \"Content-Type\": \"application/json\"\n",
    "}\n",
    "\n",
    "# Send the POST request to the Google Apps Script web app\n",
    "response = requests.post(url, headers=headers, data=json.dumps(payload))\n",
    "\n",
    "# Print the response from the server\n",
    "print(response.json()) \n",
    "\n"
   ]
  },
  {
   "cell_type": "code",
   "execution_count": null,
   "metadata": {},
   "outputs": [],
   "source": [
    "/** FUNCIONANDO SUBCARPETAS Y UPLOAD fileLink = `https://dffffffffddddddrive.google.com/file/d/1LruJMrGvEEXv_nWPDG5uYD-s_wiH4k7q/edit`;\n",
    " editLink = `https://docs.google.com/spreadsheets/d/1LruJMrGvEEXv_nWPDG5uYD-s_wiH4k7q/edit`;\n",
    " * Google Apps Script function to handle POST requests to upload files to a specific folder in Google Drive.\n",
    " * Expects JSON input in the request body with fields: filename, file (base64), and mimetype.\n",
    " * @param {Object} e - The event parameter for the web request.\n",
    " * @return {ContentService.TextOutput} - JSON response with upload status and file ID.\n",
    " */\n",
    "function getOrCreateFolderInParent(parentFolderId, folderName) {\n",
    "  // Obtiene la carpeta principal usando su ID\n",
    "  var parentFolder = DriveApp.getFolderById(parentFolderId);\n",
    "  \n",
    "  // Busca subcarpetas con el nombre especificado dentro de la carpeta principal\n",
    "  var folders = parentFolder.getFoldersByName(folderName);\n",
    "  \n",
    "  // Si la subcarpeta ya existe, devuelve el ID de la primera coincidencia\n",
    "  if (folders.hasNext()) {\n",
    "    return folders.next().getId();\n",
    "  } else {\n",
    "    // Si no existe, crea una nueva subcarpeta con el nombre dado en la carpeta principal\n",
    "    var newFolder = parentFolder.createFolder(folderName);\n",
    "    return newFolder.getId();  // Retorna el ID de la nueva carpeta creada\n",
    "  }\n",
    "}\n",
    "\n",
    "\n",
    "\n",
    "function doPost(e) {\n",
    "  try {\n",
    "    // Parse JSON data from POST body\n",
    "    const data = JSON.parse(e.postData.contents);\n",
    "\n",
    "    // Check for required fields: filename, file (base64 data), and mimetype\n",
    "    if (!data.filename || !data.file || !data.mimetype ) {\n",
    "      return ContentService.createTextOutput(JSON.stringify({ status: 'error', message: 'Filename, file data, or mimetype missing.' }))\n",
    "                           .setMimeType(ContentService.MimeType.JSON);\n",
    "    }\n",
    "    const parent_folderId = \"1UDglgZTlWaBFXXhMx0mpSmQWkbjn4i07\"; // Replace with your specific folder ID\n",
    "    \n",
    "    var sub_folderId=parent_folderId;\n",
    "    \n",
    "    if (data.subfolder!=\"\" ) {\n",
    "\n",
    "       sub_folderId = getOrCreateFolderInParent(parent_folderId, data.subfolder);\n",
    "\n",
    "    }\n",
    "\n",
    "\n",
    "    // Decode base64-encoded file data back into binary\n",
    "    const fileDataBinary = Utilities.base64Decode(data.file);\n",
    "\n",
    "    // Create a Blob from the binary data with the specified MIME type and filename\n",
    "    const blob = Utilities.newBlob(fileDataBinary, data.mimetype, data.filename);\n",
    "\n",
    "    // Specify the folder ID where the file will be saved\n",
    "    const folderId = sub_folderId; // Replace with your specific folder ID\n",
    "    const folder = DriveApp.getFolderById(folderId);\n",
    "\n",
    "    // Save the Blob as a file in the specified folder\n",
    "    const file = folder.createFile(blob);\n",
    "\n",
    "    // Return success response with file ID\n",
    "    return ContentService.createTextOutput(JSON.stringify({ status: 'success', fileId: file.getId(), parent_folderId: parent_folderId, sub_folderId:sub_folderId }))\n",
    "                         .setMimeType(ContentService.MimeType.JSON);\n",
    "  } catch (error) {\n",
    "    // Return error status and message if an error occurs\n",
    "    return ContentService.createTextOutput(JSON.stringify({ status: 'error', message: error.message }))\n",
    "                         .setMimeType(ContentService.MimeType.JSON);\n",
    "  }\n",
    "}\n"
   ]
  },
  {
   "cell_type": "code",
   "execution_count": 23,
   "metadata": {},
   "outputs": [
    {
     "name": "stdout",
     "output_type": "stream",
     "text": [
      "{'status': 'success', 'fileId': '1AiiIcluaKkA8FANss1nglpjSyAZzeoPi', 'parent_folderId': '1UDglgZTlWaBFXXhMx0mpSmQWkbjn4i07', 'sub_folderId': '1g55ar40mN6HZxP0Kw7cGvt0OqeVKV1vf'}\n"
     ]
    }
   ],
   "source": [
    "\n",
    "\n",
    "import requests\n",
    "import base64\n",
    "import json\n",
    "\n",
    "# Your Google Apps Script web app URL\n",
    "#url = \"https://script.google.com/macros/s/AKfycbyI-84gJspF1ePXLTZb69I4RxKk8YVRWBJPvrKUD44wMlePNC6xjOnT3SJ1YvZrkgY7/exec\"\n",
    "url = \"https://script.google.com/macros/s/AKfycbyizgjHrVbBzO7JSG1JxkPIZqdFN_jozrpa70XRG0FUCurwjxb9OS3mL2fC3zH41IAP/exec\"\n",
    "# Path to the file you want to upload\n",
    "file_path = \"/Users/aldg/Downloads/Divisiones_Javi_2.xlsx\"\n",
    "\n",
    "# Set the filename and MIME type (adjust as necessary)\n",
    "filename = \"Divisiones_Javi_2.xlsx\"\n",
    "mimetype = \"application/vnd.openxmlformats-officedocument.spreadsheetml.sheet\"\n",
    "\n",
    "# Read the file and encode it in base64\n",
    "with open(file_path, \"rb\") as file:\n",
    "    file_data = base64.b64encode(file.read()).decode(\"utf-8\")\n",
    "\n",
    "# Create the JSON payload\n",
    "payload = {\n",
    "    \"filename\": filename,\n",
    "    \"file\": file_data,\n",
    "    \"mimetype\": mimetype,\n",
    "    \"parent_folderId\":  \"1UDglgZTlWaBFXXhMx0mpSmQWkbjn4i07\",\n",
    "    \"subfolder\": \"mis matopes\"\n",
    "}\n",
    "\n",
    "# Set headers for JSON content\n",
    "headers = {\n",
    "    \"Content-Type\": \"application/json\"\n",
    "}\n",
    "\n",
    "# Send the POST request to the Google Apps Script web app\n",
    "response = requests.post(url, headers=headers, data=json.dumps(payload))\n",
    "\n",
    "# Print the response from the server\n",
    "print(response.json())\n",
    "\n"
   ]
  },
  {
   "cell_type": "code",
   "execution_count": null,
   "metadata": {},
   "outputs": [],
   "source": [
    "/**  TEST_UPLOAD_SUBFOLDER_PARENTFOLDER_ID     \n",
    " * Google Apps Script function to handle POST requests to upload files to a specific folder in Google Drive.\n",
    " * Expects JSON input in the request body with fields: filename, file (base64), and mimetype.\n",
    " * @param {Object} e - The event parameter for the web request.\n",
    " * @return {ContentService.TextOutput} - JSON response with upload status and file ID.\n",
    " */\n",
    "function getOrCreateFolderInParent(parentFolderId, folderName) {\n",
    "  // Obtiene la carpeta principal usando su ID\n",
    "  var parentFolder = DriveApp.getFolderById(parentFolderId);\n",
    "  \n",
    "  // Busca subcarpetas con el nombre especificado dentro de la carpeta principal\n",
    "  var folders = parentFolder.getFoldersByName(folderName);\n",
    "  \n",
    "  // Si la subcarpeta ya existe, devuelve el ID de la primera coincidencia\n",
    "  if (folders.hasNext()) {\n",
    "    return folders.next().getId();\n",
    "  } else {\n",
    "    // Si no existe, crea una nueva subcarpeta con el nombre dado en la carpeta principal\n",
    "    var newFolder = parentFolder.createFolder(folderName);\n",
    "    return newFolder.getId();  // Retorna el ID de la nueva carpeta creada\n",
    "  }\n",
    "}\n",
    "\n",
    "\n",
    "\n",
    "function doPost(e) {\n",
    "  try {\n",
    "    // Parse JSON data from POST body\n",
    "    const data = JSON.parse(e.postData.contents);\n",
    "\n",
    "    // Check for required fields: filename, file (base64 data), and mimetype\n",
    "    if (!data.filename || !data.file || !data.mimetype || !data.parent_folderId) {\n",
    "      return ContentService.createTextOutput(JSON.stringify({ status: 'error', message: 'Filename, file data, or mimetype missing.' }))\n",
    "                           .setMimeType(ContentService.MimeType.JSON);\n",
    "    }\n",
    "    const parent_folderId = data.parent_folderId; // Replace with your specific folder ID\n",
    "    \n",
    "    var sub_folderId=parent_folderId;\n",
    "    \n",
    "    if (data.subfolder!=\"\" ) {\n",
    "\n",
    "       sub_folderId = getOrCreateFolderInParent(parent_folderId, data.subfolder);\n",
    "\n",
    "    }\n",
    "\n",
    "\n",
    "    // Decode base64-encoded file data back into binary\n",
    "    const fileDataBinary = Utilities.base64Decode(data.file);\n",
    "\n",
    "    // Create a Blob from the binary data with the specified MIME type and filename\n",
    "    const blob = Utilities.newBlob(fileDataBinary, data.mimetype, data.filename);\n",
    "\n",
    "    // Specify the folder ID where the file will be saved\n",
    "    const folderId = sub_folderId; // Replace with your specific folder ID\n",
    "    const folder = DriveApp.getFolderById(folderId);\n",
    "\n",
    "    // Save the Blob as a file in the specified folder\n",
    "    const file = folder.createFile(blob);\n",
    "\n",
    "    // Return success response with file ID\n",
    "    return ContentService.createTextOutput(JSON.stringify({ status: 'success', fileId: file.getId(), parent_folderId: parent_folderId, sub_folderId:sub_folderId }))\n",
    "                         .setMimeType(ContentService.MimeType.JSON);\n",
    "  } catch (error) {\n",
    "    // Return error status and message if an error occurs\n",
    "    return ContentService.createTextOutput(JSON.stringify({ status: 'error', message: error.message }))\n",
    "                         .setMimeType(ContentService.MimeType.JSON);\n",
    "  }\n",
    "}\n"
   ]
  },
  {
   "cell_type": "code",
   "execution_count": null,
   "metadata": {},
   "outputs": [],
   "source": [
    "CURLT CON REDIRECCIONES\n",
    "\n",
    "curl -L -POST  \"https://script.google.com/macros/s/AKfycbyizgjHrVbBzO7JSG1JxkPIZqdFN_jozrpa70XRG0FUCurwjxb9OS3mL2fC3zH41IAP/exec\" \\\n",
    " -H \"Content-Type: application/json\" \\\n",
    "  -d '{  \"filename\": \"Divisiones_Javi_2.xlsx\", \n",
    "\"file\": \"'\"$(base64 Divisiones_Javi_2.xlsx)\"'\", \n",
    "\"parent_folderId\":  \"1UDglgZTlWaBFXXhMx0mpSmQWkbjn4i07\",   \n",
    "\"subfolder\": \"mis matopes2\",  \n",
    "\"mimetype\": \"application/vnd.openxmlformats-officedocument.spreadsheetml.sheet\"  }' \n"
   ]
  },
  {
   "cell_type": "code",
   "execution_count": null,
   "metadata": {},
   "outputs": [],
   "source": [
    "https://script.google.com/macros/s/AKfycbzbDIvxIChuxftL4IqrUv4b-aS4ZA8vMR_aUEYKTKECa04GfA1Ex6WXBm00VEp6msQ/exec\n",
    "https://script.google.com/macros/s/AKfycbzbDIvxIChuxftL4IqrUv4b-aS4ZA8vMR_aUEYKTKECa04GfA1Ex6WXBm00VEp6msQ/exec\n",
    "\n",
    "curl -L -POST  \"https://script.google.com/macros/s/AKfycbzbDIvxIChuxftL4IqrUv4b-aS4ZA8vMR_aUEYKTKECa04GfA1Ex6WXBm00VEp6msQ/exec\" \\\n",
    " -H \"Content-Type: application/json\" \\\n",
    "  -d '{  \"filename\": \"Divisiones_Javi_2.xlsx\", \n",
    "\"file\": \"'\"$(base64 /Users/aldg/Downloads/Divisiones_Javi_2.xlsx)\"'\", \n",
    "\"parent_folderId\":  \"1UDglgZTlWaBFXXhMx0mpSmQWkbjn4i07\",   \n",
    "\"subfolder\": \"mis matopes2csmb52_viernes\",  \n",
    "\"mimetype\": \"application/vnd.openxmlformats-officedocument.spreadsheetml.sheet\"  }' \n"
   ]
  },
  {
   "cell_type": "code",
   "execution_count": 24,
   "metadata": {},
   "outputs": [],
   "source": [
    "import secrets"
   ]
  }
 ],
 "metadata": {
  "kernelspec": {
   "display_name": ".venv",
   "language": "python",
   "name": "python3"
  },
  "language_info": {
   "codemirror_mode": {
    "name": "ipython",
    "version": 3
   },
   "file_extension": ".py",
   "mimetype": "text/x-python",
   "name": "python",
   "nbconvert_exporter": "python",
   "pygments_lexer": "ipython3",
   "version": "3.11.5"
  }
 },
 "nbformat": 4,
 "nbformat_minor": 2
}
