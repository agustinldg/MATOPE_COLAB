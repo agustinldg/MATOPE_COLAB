{
 "cells": [
  {
   "cell_type": "code",
   "execution_count": 2,
   "metadata": {},
   "outputs": [
    {
     "name": "stdout",
     "output_type": "stream",
     "text": [
      "['22-1', '44+2', '5555+5555+23', '235:7']\n",
      "0 22-1\n",
      "1 44+2\n",
      "2 5555+5555+23\n",
      "3 235:7\n"
     ]
    }
   ],
   "source": [
    "c_operaciones=\"      22-1     44+2 5555+5555+23 235:7   \"\n",
    "a=c_operaciones.split()\n",
    "\n",
    "print(a)\n",
    "for i in range(len(a)):\n",
    "    print(i,a[i])\n"
   ]
  },
  {
   "cell_type": "code",
   "execution_count": null,
   "metadata": {},
   "outputs": [],
   "source": []
  },
  {
   "cell_type": "code",
   "execution_count": 4,
   "metadata": {},
   "outputs": [
    {
     "name": "stdout",
     "output_type": "stream",
     "text": [
      "[222, 333]\n"
     ]
    }
   ],
   "source": [
    "fope=list(map(int, ['222','333']))\n",
    "print (fope)\n",
    "          "
   ]
  }
 ],
 "metadata": {
  "kernelspec": {
   "display_name": ".venv",
   "language": "python",
   "name": "python3"
  },
  "language_info": {
   "codemirror_mode": {
    "name": "ipython",
    "version": 3
   },
   "file_extension": ".py",
   "mimetype": "text/x-python",
   "name": "python",
   "nbconvert_exporter": "python",
   "pygments_lexer": "ipython3",
   "version": "3.11.5"
  }
 },
 "nbformat": 4,
 "nbformat_minor": 2
}
