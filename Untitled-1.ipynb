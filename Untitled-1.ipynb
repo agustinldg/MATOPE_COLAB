{
 "cells": [
  {
   "cell_type": "code",
   "execution_count": 2,
   "metadata": {},
   "outputs": [
    {
     "name": "stdout",
     "output_type": "stream",
     "text": [
      "['22-1', '44+2', '5555+5555+23', '235:7']\n",
      "0 22-1\n",
      "1 44+2\n",
      "2 5555+5555+23\n",
      "3 235:7\n"
     ]
    }
   ],
   "source": [
    "c_operaciones=\"      22-1     44+2 5555+5555+23 235:7   \"\n",
    "a=c_operaciones.split()\n",
    "\n",
    "print(a)\n",
    "for i in range(len(a)):\n",
    "    print(i,a[i])\n"
   ]
  },
  {
   "cell_type": "code",
   "execution_count": null,
   "metadata": {},
   "outputs": [],
   "source": [
    "from openpyxl.styles.colors import RED,GREEN,DARKGREEN,DARKRED"
   ]
  },
  {
   "cell_type": "code",
   "execution_count": 4,
   "metadata": {},
   "outputs": [
    {
     "name": "stdout",
     "output_type": "stream",
     "text": [
      "[222, 333]\n"
     ]
    }
   ],
   "source": [
    "fope=list(map(int, ['222','333']))\n",
    "print (fope)\n",
    "          "
   ]
  },
  {
   "cell_type": "code",
   "execution_count": 6,
   "metadata": {},
   "outputs": [
    {
     "name": "stdout",
     "output_type": "stream",
     "text": [
      "2024-10-02 21:39:33\n"
     ]
    }
   ],
   "source": [
    "from datetime import datetime \n",
    "a=datetime.now().strftime(\"%Y-%m-%d %H:%M:%S\") \n",
    "print (a )"
   ]
  },
  {
   "cell_type": "code",
   "execution_count": 5,
   "metadata": {},
   "outputs": [
    {
     "ename": "ModuleNotFoundError",
     "evalue": "No module named 'request'",
     "output_type": "error",
     "traceback": [
      "\u001b[0;31m---------------------------------------------------------------------------\u001b[0m",
      "\u001b[0;31mModuleNotFoundError\u001b[0m                       Traceback (most recent call last)",
      "Cell \u001b[0;32mIn[5], line 1\u001b[0m\n\u001b[0;32m----> 1\u001b[0m \u001b[38;5;28;01mimport\u001b[39;00m \u001b[38;5;21;01mrequest\u001b[39;00m \n",
      "\u001b[0;31mModuleNotFoundError\u001b[0m: No module named 'request'"
     ]
    }
   ],
   "source": [
    "import request "
   ]
  },
  {
   "cell_type": "code",
   "execution_count": 10,
   "metadata": {},
   "outputs": [],
   "source": [
    "def calcula_size(sz):\n",
    "    return (round(sz*fontsize/11))"
   ]
  },
  {
   "cell_type": "code",
   "execution_count": 15,
   "metadata": {},
   "outputs": [
    {
     "name": "stdout",
     "output_type": "stream",
     "text": [
      "24\n"
     ]
    }
   ],
   "source": [
    "fontsize=22\n",
    "print(calcula_size(12))"
   ]
  },
  {
   "cell_type": "code",
   "execution_count": null,
   "metadata": {},
   "outputs": [],
   "source": []
  },
  {
   "cell_type": "code",
   "execution_count": null,
   "metadata": {},
   "outputs": [],
   "source": []
  },
  {
   "cell_type": "code",
   "execution_count": null,
   "metadata": {},
   "outputs": [],
   "source": []
  },
  {
   "cell_type": "code",
   "execution_count": 16,
   "metadata": {},
   "outputs": [],
   "source": [
    "# @title Texto de título predeterminado\n",
    "# @markdown **das d as**\n",
    "modo = \"super_pro,facil\" # @param [\"super_pro,facil,dificil\",\"super_pro,facil\",\"facil\"]"
   ]
  },
  {
   "cell_type": "code",
   "execution_count": null,
   "metadata": {},
   "outputs": [],
   "source": [
    "# @markdown **das d as**\n",
    "modo = \"super_pro,facil\" # @param [\"super_pro,facil,dificil\",\"super_pro,facil\",\"facil\"]"
   ]
  },
  {
   "cell_type": "markdown",
   "metadata": {},
   "source": []
  },
  {
   "cell_type": "code",
   "execution_count": 21,
   "metadata": {},
   "outputs": [
    {
     "name": "stdout",
     "output_type": "stream",
     "text": [
      "super_pro\n"
     ]
    }
   ],
   "source": [
    "CFG_MODOS_DISPO=\"super_pro\" #,fácil,dificil\" #,\"super_pro,facil\",\"facil\"\n",
    "CFG_MODO_SELEC=\"super_pro\"\n",
    "\n",
    "def modo_defecto():\n",
    "    if CFG_MODO_SELEC in CFG_MODOS_DISPO.split(',') :\n",
    "        return CFG_MODO_SELEC\n",
    "    else:\n",
    "        return CFG_MODOS_DISPO.split(',')[0]\n",
    "\n",
    "print(modo_defecto())\n"
   ]
  },
  {
   "cell_type": "code",
   "execution_count": 22,
   "metadata": {},
   "outputs": [],
   "source": [
    "from openpyxl.styles import Border, Side, PatternFill, Font, GradientFill, Alignment\n",
    "from openpyxl import Workbook\n",
    "\n",
    "wb = Workbook()\n",
    "ws = wb.active\n",
    "ws.merge_cells('B2:F4')\n",
    "\n",
    "top_left_cell = ws['B2']\n",
    "top_left_cell.value = \"My Cell\"\n",
    "\n",
    "thin = Side(border_style=\"thin\", color=\"000000\")\n",
    "double = Side(border_style=\"double\", color=\"ff0000\")\n",
    "\n",
    "top_left_cell.border = Border(top=double, left=thin, right=thin, bottom=double)\n",
    "top_left_cell.fill = PatternFill(\"solid\", fgColor=\"DDDDDD\")\n",
    "top_left_cell.fill = fill = GradientFill(stop=(\"000000\", \"FFFFFF\"))\n",
    "top_left_cell.font  = Font(b=True, color=\"FF0000\")\n",
    "top_left_cell.alignment = Alignment(horizontal=\"center\", vertical=\"center\")\n",
    "\n",
    "wb.save(\"styled.xlsx\")"
   ]
  },
  {
   "cell_type": "code",
   "execution_count": 2,
   "metadata": {},
   "outputs": [
    {
     "name": "stdout",
     "output_type": "stream",
     "text": [
      "10288065751028805632\n"
     ]
    }
   ],
   "source": [
    "a=123456789012345678901\n",
    "b=12\n",
    "print(int(a/b))\n"
   ]
  },
  {
   "cell_type": "code",
   "execution_count": 3,
   "metadata": {},
   "outputs": [
    {
     "name": "stdout",
     "output_type": "stream",
     "text": [
      "10288065751028806575.08333333\n"
     ]
    }
   ],
   "source": [
    "from decimal import Decimal, getcontext\n",
    "a=123456789012345678901\n",
    "b=12\n",
    "print(Decimal(a)/Decimal(b))\n"
   ]
  },
  {
   "cell_type": "code",
   "execution_count": 4,
   "metadata": {},
   "outputs": [
    {
     "name": "stdout",
     "output_type": "stream",
     "text": [
      "34342342342342342342342323\n"
     ]
    }
   ],
   "source": [
    "print(Decimal(\"34342342342342342342342323\"))\n"
   ]
  },
  {
   "cell_type": "code",
   "execution_count": 7,
   "metadata": {},
   "outputs": [
    {
     "name": "stdout",
     "output_type": "stream",
     "text": [
      "123456789012345678900\n"
     ]
    }
   ],
   "source": [
    "print(10288065751028806575*12)"
   ]
  }
 ],
 "metadata": {
  "kernelspec": {
   "display_name": ".venv",
   "language": "python",
   "name": "python3"
  },
  "language_info": {
   "codemirror_mode": {
    "name": "ipython",
    "version": 3
   },
   "file_extension": ".py",
   "mimetype": "text/x-python",
   "name": "python",
   "nbconvert_exporter": "python",
   "pygments_lexer": "ipython3",
   "version": "3.11.5"
  }
 },
 "nbformat": 4,
 "nbformat_minor": 2
}
